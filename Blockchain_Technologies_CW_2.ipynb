{
  "cells": [
    {
      "cell_type": "markdown",
      "metadata": {
        "id": "view-in-github",
        "colab_type": "text"
      },
      "source": [
        "<a href=\"https://colab.research.google.com/github/Adityan1512/Coursework-Codes/blob/main/Blockchain_Technologies_CW_2.ipynb\" target=\"_parent\"><img src=\"https://colab.research.google.com/assets/colab-badge.svg\" alt=\"Open In Colab\"/></a>"
      ]
    },
    {
      "cell_type": "code",
      "execution_count": 14,
      "metadata": {
        "colab": {
          "base_uri": "https://localhost:8080/"
        },
        "id": "_kw4xdWXfaCN",
        "outputId": "97756e8c-3a79-4c41-9c10-a623c224aeb3"
      },
      "outputs": [
        {
          "output_type": "stream",
          "name": "stdout",
          "text": [
            "Requirement already satisfied: bitcoin in /usr/local/lib/python3.10/dist-packages (1.1.42)\n"
          ]
        }
      ],
      "source": [
        "pip install bitcoin"
      ]
    },
    {
      "cell_type": "code",
      "execution_count": 2,
      "metadata": {
        "id": "5A8T3rdZfaCQ"
      },
      "outputs": [],
      "source": [
        "from bitcoin import *"
      ]
    },
    {
      "cell_type": "code",
      "execution_count": 3,
      "metadata": {
        "colab": {
          "base_uri": "https://localhost:8080/"
        },
        "id": "W6jOyXB4faCR",
        "outputId": "bd2a74cc-493f-4308-c3c1-a7f4063fe844"
      },
      "outputs": [
        {
          "output_type": "stream",
          "name": "stdout",
          "text": [
            "Private Key: cd6b9c4a93e9b751b1c93333bb9d156337033abf992e74ef1f05165808ef75ee\n",
            "\n"
          ]
        }
      ],
      "source": [
        "my_private_key = random_key()\n",
        "print(\"Private Key: %s\\n\" % my_private_key)"
      ]
    },
    {
      "cell_type": "code",
      "execution_count": 4,
      "metadata": {
        "colab": {
          "base_uri": "https://localhost:8080/"
        },
        "id": "BXtb5xdNfaCS",
        "outputId": "63ace49e-b36d-45b0-e0bb-af3887b8d0bd"
      },
      "outputs": [
        {
          "output_type": "stream",
          "name": "stdout",
          "text": [
            "Public Key: 04a44b2abbbd5246d3a192273f3e5d1006a547b1ba4d26470592a4ae7ca94eb528b0e46f64bd5008bc43343ed3f5a9d02c44c637cd14b55c59cc9bce43363554db\n",
            "\n"
          ]
        }
      ],
      "source": [
        "my_public_key = privtopub(my_private_key)\n",
        "print(\"Public Key: %s\\n\" % my_public_key)"
      ]
    },
    {
      "cell_type": "code",
      "execution_count": 5,
      "metadata": {
        "colab": {
          "base_uri": "https://localhost:8080/"
        },
        "id": "xxQEFr3TfaCS",
        "outputId": "f76b9af5-051f-4470-87b7-2b923bafe10b"
      },
      "outputs": [
        {
          "output_type": "stream",
          "name": "stdout",
          "text": [
            "Bitcoin Address: 1HoVuaVR7ypgF8t8W6JR4MhUGUXfJXG8wg\n",
            "\n"
          ]
        }
      ],
      "source": [
        "my_address = pubtoaddr(my_public_key)\n",
        "print(\"Bitcoin Address: %s\\n\" % my_address)"
      ]
    },
    {
      "cell_type": "code",
      "execution_count": 10,
      "metadata": {
        "id": "srsv8Lf6faCS"
      },
      "outputs": [],
      "source": [
        "private_key1 = random_key()\n",
        "private_key2 = random_key()\n",
        "private_key3 = random_key()\n",
        "private_key4 = random_key()\n"
      ]
    },
    {
      "cell_type": "code",
      "execution_count": 11,
      "metadata": {
        "id": "w3NTVlWufaCT"
      },
      "outputs": [],
      "source": [
        "public_key1 = privtopub(private_key1)\n",
        "public_key2 = privtopub(private_key2)\n",
        "public_key3 = privtopub(private_key3)\n",
        "public_key4 = privtopub(private_key3)"
      ]
    },
    {
      "cell_type": "code",
      "execution_count": 12,
      "metadata": {
        "colab": {
          "base_uri": "https://localhost:8080/"
        },
        "id": "JMGbyANXfaCT",
        "outputId": "0f351f51-d529-4bb4-c83a-6b7f08ea6fb3"
      },
      "outputs": [
        {
          "output_type": "stream",
          "name": "stdout",
          "text": [
            "My Multisignature Address: 3KLoCHb1QPTyPNHNPZ8bfAwDqg9PVLp3zH\n",
            "\n"
          ]
        }
      ],
      "source": [
        "my_mulit_sig = mk_multisig_script(private_key1, private_key2, private_key3, 2, 3)\n",
        "my_mulit_address = scriptaddr(my_mulit_sig)\n",
        "print(\"My Multisignature Address: %s\\n\" % my_mulit_address)"
      ]
    },
    {
      "cell_type": "code",
      "execution_count": 13,
      "metadata": {
        "colab": {
          "base_uri": "https://localhost:8080/"
        },
        "id": "VDA5YifefaCT",
        "outputId": "ce9f8460-9ff1-4dd2-cf68-122d0e543442"
      },
      "outputs": [
        {
          "output_type": "stream",
          "name": "stdout",
          "text": [
            "[{'address': '1KokfmiMAkpnqDTt3aKVkrEf6Hsagpbz8B', 'value': 471797, 'output': '0b9b3e874638d8cbce4ff5fad651d740d6f5b9cee9503be9495a45b801f48bec:0', 'block_height': 668363, 'spend': '27815390ad05b8a49bc15ec364e0e320bab21aa5c46a6c5b2b79ac4c0ae9cbc1:4'}]\n"
          ]
        }
      ],
      "source": [
        "valid_address = '1KokfmiMAkpnqDTt3aKVkrEf6Hsagpbz8B'\n",
        "print(history(valid_address))"
      ]
    }
  ],
  "metadata": {
    "kernelspec": {
      "display_name": "Python 3",
      "language": "python",
      "name": "python3"
    },
    "language_info": {
      "codemirror_mode": {
        "name": "ipython",
        "version": 3
      },
      "file_extension": ".py",
      "mimetype": "text/x-python",
      "name": "python",
      "nbconvert_exporter": "python",
      "pygments_lexer": "ipython3",
      "version": "3.8.3"
    },
    "colab": {
      "provenance": [],
      "include_colab_link": true
    }
  },
  "nbformat": 4,
  "nbformat_minor": 0
}