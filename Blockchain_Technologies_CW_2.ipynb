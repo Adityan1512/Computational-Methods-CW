{
  "nbformat": 4,
  "nbformat_minor": 0,
  "metadata": {
    "colab": {
      "provenance": [],
      "authorship_tag": "ABX9TyOHT42YAdhRyfwRIKTPWfMJ",
      "include_colab_link": true
    },
    "kernelspec": {
      "name": "python3",
      "display_name": "Python 3"
    },
    "language_info": {
      "name": "python"
    }
  },
  "cells": [
    {
      "cell_type": "markdown",
      "metadata": {
        "id": "view-in-github",
        "colab_type": "text"
      },
      "source": [
        "<a href=\"https://colab.research.google.com/github/Adityan1512/Coursework-Codes/blob/main/Blockchain_Technologies_CW_2.ipynb\" target=\"_parent\"><img src=\"https://colab.research.google.com/assets/colab-badge.svg\" alt=\"Open In Colab\"/></a>"
      ]
    },
    {
      "cell_type": "code",
      "source": [
        "# Define the total amount of BTC invested\n",
        "total_btc = 100"
      ],
      "metadata": {
        "id": "041B5KW7GgPw"
      },
      "execution_count": 9,
      "outputs": []
    },
    {
      "cell_type": "code",
      "source": [
        "# Partners and their stakes in percentage\n",
        "partners = {\n",
        "    'CEO': 0.40,  # As the CEO, you have the remaining 40%\n",
        "    'Alice': 0.20,\n",
        "    'Bob': 0.20,\n",
        "    'Coo': 0.20\n",
        "}"
      ],
      "metadata": {
        "id": "EwdaNF6oGilp"
      },
      "execution_count": 10,
      "outputs": []
    },
    {
      "cell_type": "code",
      "source": [
        "# Function to calculate BTC shares\n",
        "def calculate_shares(total_btc, partners):\n",
        "    shares = {}\n",
        "    for partner, stake in partners.items():\n",
        "        shares[partner] = total_btc * stake\n",
        "    return shares"
      ],
      "metadata": {
        "id": "zF0zBmFLGp4a"
      },
      "execution_count": 11,
      "outputs": []
    },
    {
      "cell_type": "code",
      "source": [
        "# Calculate the shares of BTC each partner owns\n",
        "btc_shares = calculate_shares(total_btc, partners)"
      ],
      "metadata": {
        "id": "995tqW09GvAY"
      },
      "execution_count": 12,
      "outputs": []
    },
    {
      "cell_type": "code",
      "source": [
        "# Display the BTC shares\n",
        "for partner, share in btc_shares.items():\n",
        "    print(f\"{partner}: {share} BTC\")"
      ],
      "metadata": {
        "colab": {
          "base_uri": "https://localhost:8080/"
        },
        "id": "yYB8QB8kG0Ga",
        "outputId": "1cf36f63-9c7d-4daf-951f-96cb80441e47"
      },
      "execution_count": 13,
      "outputs": [
        {
          "output_type": "stream",
          "name": "stdout",
          "text": [
            "CEO: 40.0 BTC\n",
            "Alice: 20.0 BTC\n",
            "Bob: 20.0 BTC\n",
            "Coo: 20.0 BTC\n"
          ]
        }
      ]
    },
    {
      "cell_type": "code",
      "source": [
        "# Assuming simple key management for the wallet\n",
        "def key_management_control(partners):\n",
        "    # For simplification, assume keys are distributed based on stakes\n",
        "    keys = {partner: f\"key_{partner}\" for partner in partners}\n",
        "    return keys\n"
      ],
      "metadata": {
        "id": "AONgbxydG38t"
      },
      "execution_count": 14,
      "outputs": []
    },
    {
      "cell_type": "code",
      "source": [
        "# Simulate key management\n",
        "wallet_keys = key_management_control(partners)"
      ],
      "metadata": {
        "id": "b7T5e5EUG644"
      },
      "execution_count": 15,
      "outputs": []
    },
    {
      "cell_type": "code",
      "source": [
        "# Display the key management\n",
        "print(\"\\nWallet Key Assignments:\")\n",
        "for partner, key in wallet_keys.items():\n",
        "    print(f\"{partner} holds {key}\")"
      ],
      "metadata": {
        "colab": {
          "base_uri": "https://localhost:8080/"
        },
        "id": "NC-14NSHG9cN",
        "outputId": "fe84f611-bb5d-45ca-faee-fc66e6811fc8"
      },
      "execution_count": 16,
      "outputs": [
        {
          "output_type": "stream",
          "name": "stdout",
          "text": [
            "\n",
            "Wallet Key Assignments:\n",
            "CEO holds key_CEO\n",
            "Alice holds key_Alice\n",
            "Bob holds key_Bob\n",
            "Coo holds key_Coo\n"
          ]
        }
      ]
    }
  ]
}